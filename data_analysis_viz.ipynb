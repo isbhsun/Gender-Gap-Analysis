{
 "cells": [
  {
   "cell_type": "code",
   "execution_count": 1,
   "metadata": {},
   "outputs": [],
   "source": [
    "import requests\n",
    "from pymongo import MongoClient\n",
    "from bs4 import BeautifulSoup\n",
    "import pandas as pd\n",
    "import numpy as np\n",
    "import matplotlib.pyplot as plt\n",
    "from scipy import stats\n",
    "from tabulate import tabulate\n",
    "\n",
    "plt.style.use('ggplot')"
   ]
  },
  {
   "cell_type": "code",
   "execution_count": 2,
   "metadata": {},
   "outputs": [],
   "source": [
    "#set up Mongo to store data \n",
    "client = MongoClient('localhost', 27017)\n",
    "\n",
    "db = client['cap1_db']\n",
    "col1 = db['col1']\n",
    "col_people = db['col_people']\n"
   ]
  },
  {
   "cell_type": "code",
   "execution_count": 3,
   "metadata": {},
   "outputs": [],
   "source": [
    "category_url = ['Data_scientists', \n",
    "                '20th-century_economists',\n",
    "                '21st-century_economists', \n",
    "                '21st-century_chemists', \n",
    "                '20th-century_chemists',\n",
    "                '21st-century_physicists',\n",
    "                '20th-century_physicists',\n",
    "                '21st-century_biologists',\n",
    "                '20th-century_biologists',\n",
    "                'Microbiologists',\n",
    "                '21st-century_physicians',\n",
    "                '20th-century_physicians']\n",
    "\n",
    "nobel = ['Data Science', \n",
    "            'Economics',\n",
    "           'Chemistry',\n",
    "           'Physics' ,\n",
    "           'Physiology or Medicine']\n",
    "\n",
    "subcat_dict = dict()\n",
    "for i in category_url:\n",
    "    doc = col1.find_one({'page': i })\n",
    "    subcat_dict[i] = doc['subcat_link']\n",
    "subcat_dict2 = dict()\n",
    "subcategory_category_url = []\n",
    "for i in category_url: \n",
    "    doc = col1.find_one({'page': i})\n",
    "    subcat_list = doc['subcat_link']\n",
    "    for subcat in subcat_list:\n",
    "        subcat = subcat.replace('/wiki/Category:', '')\n",
    "        subcategory_category_url.append(subcat)\n",
    "        subdoc = col1.find_one({'page': subcat })\n",
    "        try:\n",
    "            subcat_dict2[subcat] = subdoc['subcat_link']\n",
    "        except:\n",
    "            subcat_dict2[subcat] = None"
   ]
  },
  {
   "cell_type": "code",
   "execution_count": 4,
   "metadata": {},
   "outputs": [],
   "source": [
    "full_subcat_dict = {}\n",
    "for k, v in subcat_dict.items():\n",
    "    for cat in v:\n",
    "        cat = cat.replace('/wiki/Category:', '')\n",
    "        for k2, v2 in subcat_dict2.items():\n",
    "            if cat == k2:\n",
    "                sub_dict = {k2:v2}\n",
    "                if k not in full_subcat_dict:\n",
    "                    full_subcat_dict[k] = sub_dict\n",
    "                elif k in full_subcat_dict:\n",
    "                    full_subcat_dict[k].update(sub_dict)\n",
    "\n",
    "for k, v in full_subcat_dict.items():\n",
    "    for k2, v2, in full_subcat_dict[k].items():\n",
    "        fix_list = []\n",
    "        try:\n",
    "            for cat in v2:\n",
    "                cat = cat.replace('/wiki/Category:', '')\n",
    "                fix_list.append(cat)\n",
    "        except:\n",
    "            continue\n",
    "        full_subcat_dict[k][k2] = fix_list\n",
    "\n",
    "flat_dict = {}\n",
    "for k, v in full_subcat_dict.items():\n",
    "    flatten = []\n",
    "    for k2, v2 in v.items():\n",
    "        flatten.append(k2)\n",
    "        try:\n",
    "            for i in v2:\n",
    "                flatten.append(i)\n",
    "        except:\n",
    "            continue\n",
    "    flat_dict[k] = flatten\n"
   ]
  },
  {
   "cell_type": "code",
   "execution_count": 5,
   "metadata": {},
   "outputs": [],
   "source": [
    "cat_origin_dict = {'Data Science': ['Data_scientists'] , \n",
    "            'Economics': ['20th-century_economists',\n",
    "                '21st-century_economists'],\n",
    "           'Chemistry': ['21st-century_chemists', \n",
    "                '20th-century_chemists'] ,\n",
    "           'Physics' : ['21st-century_physicists',\n",
    "                '20th-century_physicists'] ,\n",
    "           'Physiology or Medicine' : ['21st-century_biologists',\n",
    "                '20th-century_biologists',\n",
    "                'Microbiologists',\n",
    "                '21st-century_physicians',\n",
    "                '20th-century_physicians']}"
   ]
  },
  {
   "cell_type": "code",
   "execution_count": 6,
   "metadata": {},
   "outputs": [],
   "source": [
    "def invert_dictionary(d):\n",
    "    d_out = dict()\n",
    "    for k, v in d.items():\n",
    "        for val in v:\n",
    "            if val not in d_out:\n",
    "                d_out[val] = set()\n",
    "                d_out[val]= k\n",
    "    return d_out\n",
    "\n",
    "field_dct = invert_dictionary(flat_dict)\n",
    "\n",
    "def merge_dictionaries(d1, d2):\n",
    "\n",
    "    d = d1.copy()\n",
    "    for key, value in d2.items():\n",
    "        if key in d:\n",
    "            continnue\n",
    "        else:\n",
    "            d[key] = key\n",
    "    return d\n",
    "\n",
    "d_original = {}\n",
    "d_original = d_original.fromkeys(category_url)\n",
    "\n",
    "field_dct = merge_dictionaries(field_dct, d_original)"
   ]
  },
  {
   "cell_type": "code",
   "execution_count": 7,
   "metadata": {},
   "outputs": [
    {
     "data": {
      "text/plain": [
       "{'Data_scientists': 'Data Science',\n",
       " '20th-century_economists': 'Economics',\n",
       " '21st-century_economists': 'Economics',\n",
       " '21st-century_chemists': 'Chemistry',\n",
       " '20th-century_chemists': 'Chemistry',\n",
       " '21st-century_physicists': 'Physics',\n",
       " '20th-century_physicists': 'Physics',\n",
       " '21st-century_biologists': 'Physiology or Medicine',\n",
       " '20th-century_biologists': 'Physiology or Medicine',\n",
       " 'Microbiologists': 'Physiology or Medicine',\n",
       " '21st-century_physicians': 'Physiology or Medicine',\n",
       " '20th-century_physicians': 'Physiology or Medicine'}"
      ]
     },
     "execution_count": 7,
     "metadata": {},
     "output_type": "execute_result"
    }
   ],
   "source": [
    "cat_origin = invert_dictionary(cat_origin_dict)\n",
    "cat_origin"
   ]
  },
  {
   "cell_type": "code",
   "execution_count": 8,
   "metadata": {},
   "outputs": [
    {
     "name": "stdout",
     "output_type": "stream",
     "text": [
      "<class 'pandas.core.frame.DataFrame'>\n",
      "RangeIndex: 18212 entries, 0 to 18211\n",
      "Data columns (total 7 columns):\n",
      " #   Column                 Non-Null Count  Dtype \n",
      "---  ------                 --------------  ----- \n",
      " 0   page                   18212 non-null  object\n",
      " 1   field                  18212 non-null  object\n",
      " 2   count_female_words     18212 non-null  int64 \n",
      " 3   count_male_words       18212 non-null  int64 \n",
      " 4   count_nonbinary_words  18212 non-null  int64 \n",
      " 5   doctorate              18212 non-null  int64 \n",
      " 6   len_page               18212 non-null  int64 \n",
      "dtypes: int64(5), object(2)\n",
      "memory usage: 996.1+ KB\n"
     ]
    }
   ],
   "source": [
    "dfcsv = pd.read_csv('data/wiki_profile.csv')\n",
    "dfcsv = dfcsv.drop('Unnamed: 0',1)\n",
    "dfcsv.reset_index()\n",
    "dfcsv[['count_female_words', 'count_male_words', 'count_nonbinary_words', 'len_page']].astype(int)\n",
    "dfcsv['doctorate'].astype(bool)\n",
    "dfcsv.info()"
   ]
  },
  {
   "cell_type": "code",
   "execution_count": 9,
   "metadata": {},
   "outputs": [
    {
     "data": {
      "text/plain": [
       "female        3703\n",
       "male         14013\n",
       "nonbinary       59\n",
       "dtype: int64"
      ]
     },
     "execution_count": 9,
     "metadata": {},
     "output_type": "execute_result"
    }
   ],
   "source": [
    "# Check nonbinary\n",
    "dfcsv['female'] = [True if (x > y) and (x > z)                   \n",
    "                   else False \n",
    "                   for x, y, z in zip(dfcsv['count_female_words'], dfcsv['count_male_words'], dfcsv['count_nonbinary_words'])]\n",
    "\n",
    "dfcsv['male'] = [True if (y > x) and (y > z)                   \n",
    "                   else False \n",
    "                   for x, y, z in zip(dfcsv['count_female_words'], dfcsv['count_male_words'], dfcsv['count_nonbinary_words'])]\n",
    "\n",
    "dfcsv['nonbinary'] = [True if (z > x) and (z > y)                   \n",
    "                   else False \n",
    "                   for x, y, z in zip(dfcsv['count_female_words'], dfcsv['count_male_words'], dfcsv['count_nonbinary_words'])]\n",
    "\n",
    "non_binary = dfcsv[dfcsv['nonbinary']==True]\n",
    "dfcsv[['female', 'male', 'nonbinary']].sum()"
   ]
  },
  {
   "cell_type": "code",
   "execution_count": 10,
   "metadata": {},
   "outputs": [],
   "source": [
    "# it would appear that people categorized as nonbinary had more nonbinary words 'they, them' than male or female indicator words by chance"
   ]
  },
  {
   "cell_type": "code",
   "execution_count": 11,
   "metadata": {},
   "outputs": [
    {
     "data": {
      "text/plain": [
       "female             3708\n",
       "male              14074\n",
       "gender_unclear      430\n",
       "dtype: int64"
      ]
     },
     "execution_count": 11,
     "metadata": {},
     "output_type": "execute_result"
    }
   ],
   "source": [
    "dfcsv['female'] = [True if x > y              \n",
    "                   else False \n",
    "                   for x, y in zip(dfcsv['count_female_words'], dfcsv['count_male_words'])]\n",
    "\n",
    "dfcsv['male'] = [True if y > x                   \n",
    "                   else False \n",
    "                   for x, y in zip(dfcsv['count_female_words'], dfcsv['count_male_words'])]\n",
    "dfcsv['gender_unclear'] = [True if y == x                   \n",
    "                   else False \n",
    "                   for x, y in zip(dfcsv['count_female_words'], dfcsv['count_male_words'])]\n",
    "\n",
    "dfcsv[['female', 'male', 'gender_unclear']].sum()"
   ]
  },
  {
   "cell_type": "code",
   "execution_count": 12,
   "metadata": {},
   "outputs": [],
   "source": [
    "non_binary = dfcsv[dfcsv['gender_unclear']==True]\n",
    "#where gender is unclear, it appears that these profiles tend to be in another language or are too short\n",
    "#for example: https://en.wikipedia.org/wiki/Ren%C3%A9_Courtin\n",
    "#https://en.wikipedia.org/wiki/Auguste_Det%C5%93uf\n",
    "# https://en.wikipedia.org/wiki/Jules_L%C3%A9on_Austaut\n",
    "\n",
    "dfcsv = dfcsv[dfcsv['gender_unclear']==False]"
   ]
  },
  {
   "cell_type": "code",
   "execution_count": 13,
   "metadata": {},
   "outputs": [],
   "source": [
    "category = []\n",
    "here = []\n",
    "for field in dfcsv['field']:\n",
    "    if field in field_dct:\n",
    "        category.append(field_dct[field])\n",
    "        here.append(1)\n",
    "    else:\n",
    "        category.append(field)\n",
    "        here.append(0)\n",
    "\n",
    "dfcsv['category'] = category\n",
    "dfcsv['count'] = here\n"
   ]
  },
  {
   "cell_type": "code",
   "execution_count": 14,
   "metadata": {},
   "outputs": [],
   "source": [
    "bigger_category = []\n",
    "for cat in dfcsv['category']:\n",
    "    if cat in cat_origin:\n",
    "        bigger_category.append(cat_origin[cat])\n",
    "\n",
    "    else:\n",
    "        print(\"why don't i exist?\")\n",
    "\n",
    "dfcsv['nobel_field'] = bigger_category"
   ]
  },
  {
   "cell_type": "code",
   "execution_count": 15,
   "metadata": {},
   "outputs": [],
   "source": [
    "df_analysis = dfcsv[['page', 'doctorate', 'len_page', 'female', 'male', 'category', 'count', 'nobel_field']]"
   ]
  },
  {
   "cell_type": "code",
   "execution_count": 16,
   "metadata": {},
   "outputs": [],
   "source": [
    "group_field_avg = df_analysis.groupby('nobel_field').mean(['doctorate', 'len_page', 'female', 'male'])\n",
    "group_field_avg = group_field_avg.reset_index()\n",
    "group_field_avg = group_field_avg[['female', 'doctorate']]\n",
    "group_field_sum = df_analysis.groupby('nobel_field').sum()\n",
    "group_field_sum = group_field_sum.reset_index()\n",
    "group_field_sum = group_field_sum[['nobel_field','count']]"
   ]
  },
  {
   "cell_type": "code",
   "execution_count": 17,
   "metadata": {},
   "outputs": [
    {
     "name": "stdout",
     "output_type": "stream",
     "text": [
      "|    | Field                  |     N |   Female (proportion) |   Ph.D (proportion) |\n",
      "|----|------------------------|-------|-----------------------|---------------------|\n",
      "|  1 | Data Science           |    63 |                 0.365 |               0.302 |\n",
      "|  0 | Chemistry              |  1659 |                 0.234 |               0.429 |\n",
      "|  2 | Economics              |  2576 |                 0.145 |               0.395 |\n",
      "|  3 | Physics                |  2837 |                 0.159 |               0.417 |\n",
      "|  4 | Physiology or Medicine | 10647 |                 0.232 |               0.139 |\n"
     ]
    }
   ],
   "source": [
    "#Data Description Table\n",
    "data_desc = pd.concat([group_field_sum, group_field_avg], axis=1).sort_values('count')\n",
    "print(tabulate(data_desc, floatfmt=\".3f\", headers=['Field', 'N', 'Female (proportion)', 'Ph.D (proportion)'], tablefmt=\"github\"))"
   ]
  },
  {
   "cell_type": "code",
   "execution_count": 18,
   "metadata": {},
   "outputs": [],
   "source": [
    "\n",
    "gender_se_dct = {}\n",
    "\n",
    "for field in nobel:\n",
    "    gender_byfield = df_analysis['female'][df_analysis['nobel_field']==field]\n",
    "    \n",
    "    gender_se = ((gender_byfield.mean()*(1-gender_byfield.mean()))/len(gender_byfield))**.5\n",
    "    gender_se_dct[field] = gender_se\n",
    "\n",
    "    \n",
    "gender_se = pd.DataFrame(list(gender_se_dct.items()), columns = ['nobel_field', 'gender_se'])\n",
    "data_desc = data_desc[['nobel_field', 'female']]\n",
    "prop_gender_bycat = pd.merge(gender_se, data_desc, how='inner', on='nobel_field')\n",
    "prop_gender_bycat = prop_gender_bycat.sort_values('female', ascending=True)"
   ]
  },
  {
   "cell_type": "code",
   "execution_count": 19,
   "metadata": {},
   "outputs": [
    {
     "data": {
      "image/png": "[encoded data removed]",
      "text/plain": [
       "<Figure size 576x360 with 1 Axes>"
      ]
     },
     "metadata": {},
     "output_type": "display_data"
    }
   ],
   "source": [
    "x = prop_gender_bycat['nobel_field']\n",
    "y = prop_gender_bycat['female']\n",
    "gender_se_double = [x*2 for x in prop_gender_bycat['gender_se']]\n",
    "\n",
    "fig, ax = plt.subplots(figsize=(8,5))\n",
    "#could calculate variance and add error bars\n",
    "\n",
    "ax.barh(x, y, xerr=gender_se_double, color=\"#56B4E9\")\n",
    "\n",
    "ax.set_title('Proportion Female by Field', size = 15)\n",
    "\n",
    "fig.savefig('images/PropWomenbyfield.png', bbox_inches = \"tight\")"
   ]
  },
  {
   "cell_type": "code",
   "execution_count": 20,
   "metadata": {},
   "outputs": [],
   "source": [
    "print_cat_dict = {'Data_scientists':'Data Scientists', \n",
    "                '20th-century_economists':'20th Century Economists',\n",
    "                '21st-century_economists':'21st Century Economists', \n",
    "                '21st-century_chemists':'21st Century Chemists', \n",
    "                '20th-century_chemists':'20th Century Chemists',\n",
    "                '21st-century_physicists':'21st Century Physicists',\n",
    "                '20th-century_physicists':'20th Century Physicists',\n",
    "                '21st-century_biologists':'21st Century Biologists',\n",
    "                '20th-century_biologists':'20th Century Biologists',\n",
    "                'Microbiologists':'Microbiologists',\n",
    "                '21st-century_physicians':'21st Century Physicians',\n",
    "                '20th-century_physicians':'20th Century Physicians'}"
   ]
  },
  {
   "cell_type": "code",
   "execution_count": 21,
   "metadata": {},
   "outputs": [],
   "source": [
    "group_cat = df_analysis.groupby(['category'])\n",
    "\n",
    "gender_se_dct = {}\n",
    "for category in category_url:\n",
    "    gender_bycategory = df_analysis['female'][df_analysis['category']==category]\n",
    "    \n",
    "    gender_se = ((gender_bycategory.mean()*(1-gender_bycategory.mean()))/len(gender_bycategory))**.5\n",
    "    gender_se_dct[category] = gender_se\n",
    "\n",
    "    \n",
    "gender_se = pd.DataFrame(list(gender_se_dct.items()), columns = ['category', 'gender_se'])\n",
    "\n",
    "group_cat = group_cat.mean().reset_index()\n",
    "group_cat = group_cat[['category','female']]\n",
    "prop_gender_bycat = pd.merge(gender_se, group_cat, how='inner', on='category')\n",
    "prop_gender_bycat = prop_gender_bycat[(prop_gender_bycat['category'] != 'Microbiologists') & (prop_gender_bycat['category'] != 'Data_scientists')]\n"
   ]
  },
  {
   "cell_type": "code",
   "execution_count": 25,
   "metadata": {},
   "outputs": [
    {
     "data": {
      "text/html": [
       "<div>\n",
       "<style scoped>\n",
       "    .dataframe tbody tr th:only-of-type {\n",
       "        vertical-align: middle;\n",
       "    }\n",
       "\n",
       "    .dataframe tbody tr th {\n",
       "        vertical-align: top;\n",
       "    }\n",
       "\n",
       "    .dataframe thead th {\n",
       "        text-align: right;\n",
       "    }\n",
       "</style>\n",
       "<table border=\"1\" class=\"dataframe\">\n",
       "  <thead>\n",
       "    <tr style=\"text-align: right;\">\n",
       "      <th></th>\n",
       "      <th>category</th>\n",
       "      <th>gender_se</th>\n",
       "      <th>female</th>\n",
       "      <th>temp_field</th>\n",
       "    </tr>\n",
       "  </thead>\n",
       "  <tbody>\n",
       "    <tr>\n",
       "      <th>8</th>\n",
       "      <td>20th-century_biologists</td>\n",
       "      <td>0.006382</td>\n",
       "      <td>0.187600</td>\n",
       "      <td>biologists</td>\n",
       "    </tr>\n",
       "    <tr>\n",
       "      <th>4</th>\n",
       "      <td>20th-century_chemists</td>\n",
       "      <td>0.012777</td>\n",
       "      <td>0.193515</td>\n",
       "      <td>chemists</td>\n",
       "    </tr>\n",
       "    <tr>\n",
       "      <th>1</th>\n",
       "      <td>20th-century_economists</td>\n",
       "      <td>0.007837</td>\n",
       "      <td>0.116736</td>\n",
       "      <td>economists</td>\n",
       "    </tr>\n",
       "    <tr>\n",
       "      <th>11</th>\n",
       "      <td>20th-century_physicians</td>\n",
       "      <td>0.005954</td>\n",
       "      <td>0.191055</td>\n",
       "      <td>physicians</td>\n",
       "    </tr>\n",
       "    <tr>\n",
       "      <th>6</th>\n",
       "      <td>20th-century_physicists</td>\n",
       "      <td>0.009096</td>\n",
       "      <td>0.138600</td>\n",
       "      <td>physicists</td>\n",
       "    </tr>\n",
       "    <tr>\n",
       "      <th>7</th>\n",
       "      <td>21st-century_biologists</td>\n",
       "      <td>0.014803</td>\n",
       "      <td>0.376284</td>\n",
       "      <td>biologists</td>\n",
       "    </tr>\n",
       "    <tr>\n",
       "      <th>3</th>\n",
       "      <td>21st-century_chemists</td>\n",
       "      <td>0.017092</td>\n",
       "      <td>0.288762</td>\n",
       "      <td>chemists</td>\n",
       "    </tr>\n",
       "    <tr>\n",
       "      <th>2</th>\n",
       "      <td>21st-century_economists</td>\n",
       "      <td>0.013316</td>\n",
       "      <td>0.198439</td>\n",
       "      <td>economists</td>\n",
       "    </tr>\n",
       "    <tr>\n",
       "      <th>10</th>\n",
       "      <td>21st-century_physicians</td>\n",
       "      <td>0.018933</td>\n",
       "      <td>0.368259</td>\n",
       "      <td>physicians</td>\n",
       "    </tr>\n",
       "    <tr>\n",
       "      <th>5</th>\n",
       "      <td>21st-century_physicists</td>\n",
       "      <td>0.010275</td>\n",
       "      <td>0.179340</td>\n",
       "      <td>physicists</td>\n",
       "    </tr>\n",
       "  </tbody>\n",
       "</table>\n",
       "</div>"
      ],
      "text/plain": [
       "                   category  gender_se    female  temp_field\n",
       "8   20th-century_biologists   0.006382  0.187600  biologists\n",
       "4     20th-century_chemists   0.012777  0.193515    chemists\n",
       "1   20th-century_economists   0.007837  0.116736  economists\n",
       "11  20th-century_physicians   0.005954  0.191055  physicians\n",
       "6   20th-century_physicists   0.009096  0.138600  physicists\n",
       "7   21st-century_biologists   0.014803  0.376284  biologists\n",
       "3     21st-century_chemists   0.017092  0.288762    chemists\n",
       "2   21st-century_economists   0.013316  0.198439  economists\n",
       "10  21st-century_physicians   0.018933  0.368259  physicians\n",
       "5   21st-century_physicists   0.010275  0.179340  physicists"
      ]
     },
     "execution_count": 25,
     "metadata": {},
     "output_type": "execute_result"
    }
   ],
   "source": [
    "temp_field = {}\n",
    "for x in prop_gender_bycat['category']:\n",
    "    field_name = x.split(\"_\")\n",
    "    field_name = field_name[-1]\n",
    "    temp_field[x] = field_name\n",
    "\n",
    "temp_field_elems = []\n",
    "for cat in prop_gender_bycat['category']:\n",
    "    if cat in temp_field:\n",
    "        temp_field_elems.append(temp_field[cat])\n",
    "    else:\n",
    "        print(\"why don't i exist?\")\n",
    "\n",
    "prop_gender_bycat['temp_field'] = temp_field_elems\n",
    "prop_gender_bycat"
   ]
  },
  {
   "cell_type": "code",
   "execution_count": 26,
   "metadata": {},
   "outputs": [
    {
     "data": {
      "image/png": "[encoded data removed]",
      "text/plain": [
       "<Figure size 576x360 with 1 Axes>"
      ]
     },
     "metadata": {},
     "output_type": "display_data"
    }
   ],
   "source": [
    "prop_gender_bycat = prop_gender_bycat.sort_values('category')\n",
    "prop_gender_bycat = prop_gender_bycat.sort_values('temp_field')\n",
    "prop_gender_bycat.reset_index()\n",
    "x = prop_gender_bycat['category']\n",
    "pretty_x = [print_cat_dict[x_elem] for x_elem in x]\n",
    "\n",
    "gender_se_double = [x*2 for x in prop_gender_bycat['gender_se']]\n",
    "\n",
    "\n",
    "# The palette with grey:\n",
    "# cbPalette <- c(\"#999999\", \"#E69F00\", \"#56B4E9\", \"#009E73\", \"#F0E442\", \"#0072B2\", \"#D55E00\", \"#CC79A7\")\n",
    "\n",
    "y = prop_gender_bycat['female']\n",
    "\n",
    "fig, ax = plt.subplots(figsize=(8,5))\n",
    "#could calculate variance and add error bars\n",
    "\n",
    "bars = ax.barh(pretty_x, y, color = \"#0072B2\", \n",
    "                xerr=gender_se_double)\n",
    "for item in bars[::2]:\n",
    "    item.set_color(\"#56B4E9\")\n",
    "    \n",
    "ax.set_title('Proportion Female by Category and Century', size = 15)\n",
    "\n",
    "\n",
    "fig.savefig('images/PropWomenbyCategory.png', bbox_inches = \"tight\")"
   ]
  },
  {
   "cell_type": "code",
   "execution_count": 27,
   "metadata": {},
   "outputs": [],
   "source": [
    "group_cat_gender = df_analysis.groupby(['category','female']).sum()\n",
    "group_cat_gender['prop_phd'] = group_cat_gender['doctorate'] / group_cat_gender['count']\n",
    "group_cat_gender = group_cat_gender.reset_index()\n",
    "group_cat_gender = group_cat_gender.sort_values('prop_phd')\n"
   ]
  },
  {
   "cell_type": "code",
   "execution_count": 28,
   "metadata": {},
   "outputs": [
    {
     "name": "stdout",
     "output_type": "stream",
     "text": [
      "Data Science : diff: 0.2011 P-value = 0.0780\n",
      "Economics : diff: -0.0100 P-value = 0.7156\n",
      "Chemistry : diff: -0.0756 P-value = 0.0091**\n",
      "Physics : diff: 0.0180 P-value = 0.4769\n",
      "Physiology or Medicine : diff: -0.0726 P-value = 0.0000**\n"
     ]
    }
   ],
   "source": [
    "\n",
    "for field in nobel:\n",
    "    test_f = df_analysis[(df_analysis['female']==True) & (df_analysis['nobel_field']==field)]\n",
    "    test_f = test_f['doctorate']\n",
    "    test_m = df_analysis[(df_analysis['female']==False) & (df_analysis['nobel_field']==field)]\n",
    "    test_m = test_m['doctorate']\n",
    "\n",
    "    stat, pval = stats.ttest_ind(test_f, test_m, equal_var=False)\n",
    "    \n",
    "    difference = test_m.mean()-test_f.mean()\n",
    "    \n",
    "    alpha = .01\n",
    "\n",
    "    if pval > alpha:\n",
    "        print(f\"{field} : diff: {difference:.4f} P-value = {pval:.4f}\")\n",
    "\n",
    "    elif pval < alpha:\n",
    "        print(f\"{field} : diff: {difference:.4f} P-value = {pval:.4f}**\")\n"
   ]
  },
  {
   "cell_type": "code",
   "execution_count": 29,
   "metadata": {},
   "outputs": [
    {
     "data": {
      "text/html": [
       "<div>\n",
       "<style scoped>\n",
       "    .dataframe tbody tr th:only-of-type {\n",
       "        vertical-align: middle;\n",
       "    }\n",
       "\n",
       "    .dataframe tbody tr th {\n",
       "        vertical-align: top;\n",
       "    }\n",
       "\n",
       "    .dataframe thead th {\n",
       "        text-align: right;\n",
       "    }\n",
       "</style>\n",
       "<table border=\"1\" class=\"dataframe\">\n",
       "  <thead>\n",
       "    <tr style=\"text-align: right;\">\n",
       "      <th></th>\n",
       "      <th>nobel_field</th>\n",
       "      <th>male_phd</th>\n",
       "      <th>female_phd</th>\n",
       "      <th>fem_phd_se</th>\n",
       "      <th>male_phd_se</th>\n",
       "    </tr>\n",
       "  </thead>\n",
       "  <tbody>\n",
       "    <tr>\n",
       "      <th>4</th>\n",
       "      <td>Physiology or Medicine</td>\n",
       "      <td>0.122339</td>\n",
       "      <td>0.194905</td>\n",
       "      <td>0.003624</td>\n",
       "      <td>0.003624</td>\n",
       "    </tr>\n",
       "    <tr>\n",
       "      <th>1</th>\n",
       "      <td>Data Science</td>\n",
       "      <td>0.375000</td>\n",
       "      <td>0.173913</td>\n",
       "      <td>0.076547</td>\n",
       "      <td>0.076547</td>\n",
       "    </tr>\n",
       "    <tr>\n",
       "      <th>2</th>\n",
       "      <td>Economics</td>\n",
       "      <td>0.393733</td>\n",
       "      <td>0.403743</td>\n",
       "      <td>0.010412</td>\n",
       "      <td>0.010412</td>\n",
       "    </tr>\n",
       "    <tr>\n",
       "      <th>0</th>\n",
       "      <td>Chemistry</td>\n",
       "      <td>0.411487</td>\n",
       "      <td>0.487113</td>\n",
       "      <td>0.013803</td>\n",
       "      <td>0.013803</td>\n",
       "    </tr>\n",
       "    <tr>\n",
       "      <th>3</th>\n",
       "      <td>Physics</td>\n",
       "      <td>0.420193</td>\n",
       "      <td>0.402222</td>\n",
       "      <td>0.010103</td>\n",
       "      <td>0.010103</td>\n",
       "    </tr>\n",
       "  </tbody>\n",
       "</table>\n",
       "</div>"
      ],
      "text/plain": [
       "              nobel_field  male_phd  female_phd  fem_phd_se  male_phd_se\n",
       "4  Physiology or Medicine  0.122339    0.194905    0.003624     0.003624\n",
       "1            Data Science  0.375000    0.173913    0.076547     0.076547\n",
       "2               Economics  0.393733    0.403743    0.010412     0.010412\n",
       "0               Chemistry  0.411487    0.487113    0.013803     0.013803\n",
       "3                 Physics  0.420193    0.402222    0.010103     0.010103"
      ]
     },
     "execution_count": 29,
     "metadata": {},
     "output_type": "execute_result"
    }
   ],
   "source": [
    "group_by_cat_gender = df_analysis.groupby(['nobel_field', 'female'])\n",
    "\n",
    "#standard errors \n",
    "se_fem_dct = {}\n",
    "se_male_dct = {}\n",
    "\n",
    "for field in nobel:\n",
    "    df_male_phd = df_analysis['doctorate'][(df_analysis['nobel_field']==field) & (df_analysis['female']==False)]\n",
    "    df_female_phd = df_analysis['doctorate'][(df_analysis['nobel_field']==field) & (df_analysis['female']==False)]\n",
    "    \n",
    "    women_phd_se = ((df_female_phd.mean()*(1-df_female_phd.mean()))/len(df_female_phd))**.5\n",
    "    men_phd_se = ((df_male_phd.mean()*(1-df_male_phd.mean()))/len(df_male_phd))**.5\n",
    "    se_fem_dct[field] = women_phd_se\n",
    "    se_male_dct[field] = men_phd_se\n",
    "\n",
    "se_fem_phd = pd.DataFrame(list(se_fem_dct.items()), columns = ['nobel_field', 'fem_phd_se'])\n",
    "se_male_phd = pd.DataFrame(list(se_male_dct.items()), columns = ['nobel_field', 'male_phd_se'])\n",
    "phd_se = pd.merge(se_fem_phd, se_male_phd, how='inner', on='nobel_field')\n",
    "\n",
    "group_by_cat_gender_mean = group_by_cat_gender.mean()\n",
    "phd_group_cat_gender = group_by_cat_gender_mean['doctorate']\n",
    "phd_group_cat_gender = phd_group_cat_gender.reset_index()\n",
    "\n",
    "female_phd = phd_group_cat_gender[phd_group_cat_gender['female'] == True]\n",
    "male_phd = phd_group_cat_gender[phd_group_cat_gender['female'] == False]\n",
    "\n",
    "male_phd = male_phd.filter(['nobel_field', 'doctorate'])\n",
    "male_phd.rename(columns = {'doctorate':'male_phd'}, inplace=True)\n",
    "female_phd = female_phd.filter(['nobel_field', 'doctorate'])\n",
    "female_phd.rename(columns = {'doctorate':'female_phd'}, inplace=True)\n",
    "\n",
    "prop_phd_bycat = pd.merge(male_phd, female_phd, how='inner', on='nobel_field')\n",
    "prop_phd_bycat = pd.merge(prop_phd_bycat, phd_se, how='inner', on='nobel_field')\n",
    "\n",
    "prop_phd_bycat.sort_values('male_phd', inplace=True)\n",
    "prop_phd_bycat\n",
    "    "
   ]
  },
  {
   "cell_type": "code",
   "execution_count": 35,
   "metadata": {},
   "outputs": [
    {
     "data": {
      "image/png": "[encoded data removed]",
      "text/plain": [
       "<Figure size 720x576 with 1 Axes>"
      ]
     },
     "metadata": {},
     "output_type": "display_data"
    }
   ],
   "source": [
    "categories = prop_phd_bycat['nobel_field']\n",
    "y_male = prop_phd_bycat['male_phd']\n",
    "y_fem = prop_phd_bycat['female_phd']\n",
    "\n",
    "male_se = prop_phd_bycat['male_phd_se']\n",
    "fem_se = prop_phd_bycat['fem_phd_se']\n",
    "male_se_double = [x*2 for x in male_se]\n",
    "fem_se_double = [x*2 for x in fem_se]\n",
    "\n",
    "fig, ax = plt.subplots(figsize=(10,8))\n",
    "\n",
    "N = len(categories) \n",
    "ind = np.arange(N) \n",
    "width = .4\n",
    "f = ax.barh(ind+width, y_fem, width, label = 'Female', xerr=fem_se_double, color=\"#E69F00\")\n",
    "m = ax.barh(ind, y_male, width, label = 'Male', xerr=male_se_double, color=\"#56B4E9\" )\n",
    "\n",
    "plt.yticks(ind + width / 2, categories, size=10)\n",
    "plt.legend(loc='best')\n",
    "\n",
    "ax.set_title('Proportion of People with Ph.Ds by Gender and Field', size=15)\n",
    "\n",
    "fig.savefig('images/PropPhD_gender_field.png', bbox_inches = \"tight\")"
   ]
  },
  {
   "cell_type": "code",
   "execution_count": null,
   "metadata": {},
   "outputs": [],
   "source": []
  },
  {
   "cell_type": "code",
   "execution_count": null,
   "metadata": {},
   "outputs": [],
   "source": []
  },
  {
   "cell_type": "code",
   "execution_count": null,
   "metadata": {},
   "outputs": [],
   "source": []
  },
  {
   "cell_type": "code",
   "execution_count": null,
   "metadata": {},
   "outputs": [],
   "source": []
  }
 ],
 "metadata": {
  "kernelspec": {
   "display_name": "Python 3",
   "language": "python",
   "name": "python3"
  },
  "language_info": {
   "codemirror_mode": {
    "name": "ipython",
    "version": 3
   },
   "file_extension": ".py",
   "mimetype": "text/x-python",
   "name": "python",
   "nbconvert_exporter": "python",
   "pygments_lexer": "ipython3",
   "version": "3.7.9"
  }
 },
 "nbformat": 4,
 "nbformat_minor": 4
}
