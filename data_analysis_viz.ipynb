{
 "cells": [
  {
   "cell_type": "code",
   "execution_count": 1,
   "metadata": {},
   "outputs": [],
   "source": [
    "import requests\n",
    "from pymongo import MongoClient\n",
    "from bs4 import BeautifulSoup\n",
    "import pandas as pd\n",
    "import numpy as np\n",
    "import matplotlib.pyplot as plt\n",
    "from scipy import stats\n",
    "from tabulate import tabulate\n",
    "\n",
    "plt.style.use('fivethirtyeight')"
   ]
  },
  {
   "cell_type": "code",
   "execution_count": 2,
   "metadata": {},
   "outputs": [],
   "source": [
    "#set up Mongo to store data \n",
    "client = MongoClient('localhost', 27017)\n",
    "\n",
    "db = client['cap1_db']\n",
    "col1 = db['col1']\n",
    "col_people = db['col_people']\n"
   ]
  },
  {
   "cell_type": "code",
   "execution_count": 3,
   "metadata": {},
   "outputs": [],
   "source": [
    "category_url = ['Data_scientists', \n",
    "                '20th-century_economists',\n",
    "                '21st-century_economists', \n",
    "                '21st-century_chemists', \n",
    "                '20th-century_chemists',\n",
    "                '21st-century_physicists',\n",
    "                '20th-century_physicists',\n",
    "                '21st-century_biologists',\n",
    "                '20th-century_biologists',\n",
    "                'Microbiologists',\n",
    "                '21st-century_physicians',\n",
    "                '20th-century_physicians']\n",
    "\n",
    "nobel = ['Data Science', \n",
    "            'Economics',\n",
    "           'Chemistry',\n",
    "           'Physics' ,\n",
    "           'Physiology or Medicine']\n",
    "\n",
    "subcat_dict = dict()\n",
    "for i in category_url:\n",
    "    doc = col1.find_one({'page': i })\n",
    "    subcat_dict[i] = doc['subcat_link']\n",
    "subcat_dict2 = dict()\n",
    "subcategory_category_url = []\n",
    "for i in category_url: \n",
    "    doc = col1.find_one({'page': i})\n",
    "    subcat_list = doc['subcat_link']\n",
    "    for subcat in subcat_list:\n",
    "        subcat = subcat.replace('/wiki/Category:', '')\n",
    "        subcategory_category_url.append(subcat)\n",
    "        subdoc = col1.find_one({'page': subcat })\n",
    "        try:\n",
    "            subcat_dict2[subcat] = subdoc['subcat_link']\n",
    "        except:\n",
    "            subcat_dict2[subcat] = None"
   ]
  },
  {
   "cell_type": "code",
   "execution_count": 4,
   "metadata": {},
   "outputs": [],
   "source": [
    "full_subcat_dict = {}\n",
    "for k, v in subcat_dict.items():\n",
    "    for cat in v:\n",
    "        cat = cat.replace('/wiki/Category:', '')\n",
    "        for k2, v2 in subcat_dict2.items():\n",
    "            if cat == k2:\n",
    "                sub_dict = {k2:v2}\n",
    "                if k not in full_subcat_dict:\n",
    "                    full_subcat_dict[k] = sub_dict\n",
    "                elif k in full_subcat_dict:\n",
    "                    full_subcat_dict[k].update(sub_dict)\n",
    "\n",
    "for k, v in full_subcat_dict.items():\n",
    "    for k2, v2, in full_subcat_dict[k].items():\n",
    "        fix_list = []\n",
    "        try:\n",
    "            for cat in v2:\n",
    "                cat = cat.replace('/wiki/Category:', '')\n",
    "                fix_list.append(cat)\n",
    "        except:\n",
    "            continue\n",
    "        full_subcat_dict[k][k2] = fix_list\n",
    "\n",
    "flat_dict = {}\n",
    "for k, v in full_subcat_dict.items():\n",
    "    flatten = []\n",
    "    for k2, v2 in v.items():\n",
    "        flatten.append(k2)\n",
    "        try:\n",
    "            for i in v2:\n",
    "                flatten.append(i)\n",
    "        except:\n",
    "            continue\n",
    "    flat_dict[k] = flatten\n"
   ]
  },
  {
   "cell_type": "code",
   "execution_count": 5,
   "metadata": {},
   "outputs": [],
   "source": [
    "cat_origin_dict = {'Data Science': ['Data_scientists'] , \n",
    "            'Economics': ['20th-century_economists',\n",
    "                '21st-century_economists'],\n",
    "           'Chemistry': ['21st-century_chemists', \n",
    "                '20th-century_chemists'] ,\n",
    "           'Physics' : ['21st-century_physicists',\n",
    "                '20th-century_physicists'] ,\n",
    "           'Physiology or Medicine' : ['21st-century_biologists',\n",
    "                '20th-century_biologists',\n",
    "                'Microbiologists',\n",
    "                '21st-century_physicians',\n",
    "                '20th-century_physicians']}"
   ]
  },
  {
   "cell_type": "code",
   "execution_count": 6,
   "metadata": {},
   "outputs": [],
   "source": [
    "def invert_dictionary(d):\n",
    "    d_out = dict()\n",
    "    for k, v in d.items():\n",
    "        for val in v:\n",
    "            if val not in d_out:\n",
    "                d_out[val] = set()\n",
    "                d_out[val]= k\n",
    "    return d_out\n",
    "\n",
    "field_dct = invert_dictionary(flat_dict)\n",
    "\n",
    "def merge_dictionaries(d1, d2):\n",
    "\n",
    "    d = d1.copy()\n",
    "    for key, value in d2.items():\n",
    "        if key in d:\n",
    "            continnue\n",
    "        else:\n",
    "            d[key] = key\n",
    "    return d\n",
    "\n",
    "d_original = {}\n",
    "d_original = d_original.fromkeys(category_url)\n",
    "\n",
    "field_dct = merge_dictionaries(field_dct, d_original)"
   ]
  },
  {
   "cell_type": "code",
   "execution_count": 7,
   "metadata": {},
   "outputs": [
    {
     "data": {
      "text/plain": [
       "{'Data_scientists': 'Data Science',\n",
       " '20th-century_economists': 'Economics',\n",
       " '21st-century_economists': 'Economics',\n",
       " '21st-century_chemists': 'Chemistry',\n",
       " '20th-century_chemists': 'Chemistry',\n",
       " '21st-century_physicists': 'Physics',\n",
       " '20th-century_physicists': 'Physics',\n",
       " '21st-century_biologists': 'Physiology or Medicine',\n",
       " '20th-century_biologists': 'Physiology or Medicine',\n",
       " 'Microbiologists': 'Physiology or Medicine',\n",
       " '21st-century_physicians': 'Physiology or Medicine',\n",
       " '20th-century_physicians': 'Physiology or Medicine'}"
      ]
     },
     "execution_count": 7,
     "metadata": {},
     "output_type": "execute_result"
    }
   ],
   "source": [
    "cat_origin = invert_dictionary(cat_origin_dict)\n",
    "cat_origin"
   ]
  },
  {
   "cell_type": "code",
   "execution_count": 8,
   "metadata": {},
   "outputs": [
    {
     "name": "stdout",
     "output_type": "stream",
     "text": [
      "<class 'pandas.core.frame.DataFrame'>\n",
      "RangeIndex: 18212 entries, 0 to 18211\n",
      "Data columns (total 7 columns):\n",
      " #   Column                 Non-Null Count  Dtype \n",
      "---  ------                 --------------  ----- \n",
      " 0   page                   18212 non-null  object\n",
      " 1   field                  18212 non-null  object\n",
      " 2   count_female_words     18212 non-null  int64 \n",
      " 3   count_male_words       18212 non-null  int64 \n",
      " 4   count_nonbinary_words  18212 non-null  int64 \n",
      " 5   doctorate              18212 non-null  int64 \n",
      " 6   len_page               18212 non-null  int64 \n",
      "dtypes: int64(5), object(2)\n",
      "memory usage: 996.1+ KB\n"
     ]
    }
   ],
   "source": [
    "dfcsv = pd.read_csv('data/wiki_profile.csv')\n",
    "dfcsv = dfcsv.drop('Unnamed: 0',1)\n",
    "dfcsv.reset_index()\n",
    "dfcsv[['count_female_words', 'count_male_words', 'count_nonbinary_words', 'len_page']].astype(int)\n",
    "dfcsv['doctorate'].astype(bool)\n",
    "dfcsv.info()"
   ]
  },
  {
   "cell_type": "code",
   "execution_count": 9,
   "metadata": {},
   "outputs": [
    {
     "data": {
      "text/plain": [
       "female        3703\n",
       "male         14013\n",
       "nonbinary       59\n",
       "dtype: int64"
      ]
     },
     "execution_count": 9,
     "metadata": {},
     "output_type": "execute_result"
    }
   ],
   "source": [
    "# Check nonbinary\n",
    "dfcsv['female'] = [True if (x > y) and (x > z)                   \n",
    "                   else False \n",
    "                   for x, y, z in zip(dfcsv['count_female_words'], dfcsv['count_male_words'], dfcsv['count_nonbinary_words'])]\n",
    "\n",
    "dfcsv['male'] = [True if (y > x) and (y > z)                   \n",
    "                   else False \n",
    "                   for x, y, z in zip(dfcsv['count_female_words'], dfcsv['count_male_words'], dfcsv['count_nonbinary_words'])]\n",
    "\n",
    "dfcsv['nonbinary'] = [True if (z > x) and (z > y)                   \n",
    "                   else False \n",
    "                   for x, y, z in zip(dfcsv['count_female_words'], dfcsv['count_male_words'], dfcsv['count_nonbinary_words'])]\n",
    "\n",
    "non_binary = dfcsv[dfcsv['nonbinary']==True]\n",
    "dfcsv[['female', 'male', 'nonbinary']].sum()"
   ]
  },
  {
   "cell_type": "code",
   "execution_count": 10,
   "metadata": {},
   "outputs": [],
   "source": [
    "# it would appear that people categorized as nonbinary had more nonbinary words 'they, them' than male or female indicator words by chance"
   ]
  },
  {
   "cell_type": "code",
   "execution_count": 11,
   "metadata": {},
   "outputs": [
    {
     "data": {
      "text/plain": [
       "female             3708\n",
       "male              14074\n",
       "gender_unclear      430\n",
       "dtype: int64"
      ]
     },
     "execution_count": 11,
     "metadata": {},
     "output_type": "execute_result"
    }
   ],
   "source": [
    "dfcsv['female'] = [True if x > y              \n",
    "                   else False \n",
    "                   for x, y in zip(dfcsv['count_female_words'], dfcsv['count_male_words'])]\n",
    "\n",
    "dfcsv['male'] = [True if y > x                   \n",
    "                   else False \n",
    "                   for x, y in zip(dfcsv['count_female_words'], dfcsv['count_male_words'])]\n",
    "dfcsv['gender_unclear'] = [True if y == x                   \n",
    "                   else False \n",
    "                   for x, y in zip(dfcsv['count_female_words'], dfcsv['count_male_words'])]\n",
    "\n",
    "dfcsv[['female', 'male', 'gender_unclear']].sum()"
   ]
  },
  {
   "cell_type": "code",
   "execution_count": 12,
   "metadata": {},
   "outputs": [],
   "source": [
    "non_binary = dfcsv[dfcsv['gender_unclear']==True]\n",
    "#where gender is unclear, it appears that these profiles tend to be in another language or are too short\n",
    "#for example: https://en.wikipedia.org/wiki/Ren%C3%A9_Courtin\n",
    "#https://en.wikipedia.org/wiki/Auguste_Det%C5%93uf\n",
    "# https://en.wikipedia.org/wiki/Jules_L%C3%A9on_Austaut\n",
    "\n",
    "dfcsv = dfcsv[dfcsv['gender_unclear']==False]"
   ]
  },
  {
   "cell_type": "code",
   "execution_count": 13,
   "metadata": {},
   "outputs": [],
   "source": [
    "category = []\n",
    "here = []\n",
    "for field in dfcsv['field']:\n",
    "    if field in field_dct:\n",
    "        category.append(field_dct[field])\n",
    "        here.append(1)\n",
    "    else:\n",
    "        category.append(field)\n",
    "        here.append(0)\n",
    "\n",
    "dfcsv['category'] = category\n",
    "dfcsv['count'] = here\n"
   ]
  },
  {
   "cell_type": "code",
   "execution_count": 14,
   "metadata": {},
   "outputs": [],
   "source": [
    "bigger_category = []\n",
    "for cat in dfcsv['category']:\n",
    "    if cat in cat_origin:\n",
    "        bigger_category.append(cat_origin[cat])\n",
    "\n",
    "    else:\n",
    "        print(\"why don't i exist?\")\n",
    "\n",
    "dfcsv['nobel_field'] = bigger_category"
   ]
  },
  {
   "cell_type": "code",
   "execution_count": 15,
   "metadata": {},
   "outputs": [],
   "source": [
    "df_analysis = dfcsv[['page', 'doctorate', 'len_page', 'female', 'male', 'category', 'count', 'nobel_field']]"
   ]
  },
  {
   "cell_type": "code",
   "execution_count": 16,
   "metadata": {},
   "outputs": [],
   "source": [
    "group_field_avg = df_analysis.groupby('nobel_field').mean(['doctorate', 'len_page', 'female', 'male'])\n",
    "group_field_avg = group_field_avg.reset_index()\n",
    "group_field_avg = group_field_avg[['female', 'male', 'doctorate']]\n",
    "group_field_sum = df_analysis.groupby('nobel_field').sum()\n",
    "group_field_sum = group_field_sum.reset_index()\n",
    "group_field_sum = group_field_sum[['nobel_field','count']]"
   ]
  },
  {
   "cell_type": "code",
   "execution_count": 17,
   "metadata": {},
   "outputs": [
    {
     "name": "stdout",
     "output_type": "stream",
     "text": [
      "|    | Field                  |     N |   Female (proportion) |   Male (proportion) |   Ph.D (proportion) |\n",
      "|----|------------------------|-------|-----------------------|---------------------|---------------------|\n",
      "|  1 | Data Science           |    63 |                 0.365 |               0.635 |               0.302 |\n",
      "|  0 | Chemistry              |  1659 |                 0.234 |               0.766 |               0.429 |\n",
      "|  2 | Economics              |  2576 |                 0.145 |               0.855 |               0.395 |\n",
      "|  3 | Physics                |  2837 |                 0.159 |               0.841 |               0.417 |\n",
      "|  4 | Physiology or Medicine | 10647 |                 0.232 |               0.768 |               0.139 |\n"
     ]
    }
   ],
   "source": [
    "#Data Description Table\n",
    "data_desc = pd.concat([group_field_sum, group_field_avg], axis=1).sort_values('count')\n",
    "print(tabulate(data_desc, floatfmt=\".3f\", headers=['Field', 'N', 'Female (proportion)', 'Male (proportion)', 'Ph.D (proportion)'], tablefmt=\"github\"))"
   ]
  },
  {
   "cell_type": "code",
   "execution_count": 18,
   "metadata": {},
   "outputs": [
    {
     "data": {
      "image/png": "[encoded data removed]",
      "text/plain": [
       "<Figure size 576x360 with 1 Axes>"
      ]
     },
     "metadata": {},
     "output_type": "display_data"
    }
   ],
   "source": [
    "data_desc = pd.concat([group_field_sum, group_field_avg], axis=1).sort_values('female', ascending = True)\n",
    "x = data_desc['nobel_field']\n",
    "y = data_desc['female']\n",
    "\n",
    "\n",
    "fig, ax = plt.subplots(figsize=(8,5))\n",
    "#could calculate variance and add error bars\n",
    "\n",
    "ax.barh(x, y)\n",
    "\n",
    "ax.set_title('Proportion Female by category', size = 15)\n",
    "\n",
    "fig.savefig('images/PropWomenbyfield.png', bbox_inches = \"tight\")"
   ]
  },
  {
   "cell_type": "code",
   "execution_count": 19,
   "metadata": {},
   "outputs": [],
   "source": [
    "print_cat_dict = {'Data_scientists':'Data Scientists', \n",
    "                '20th-century_economists':'20th Century Economists',\n",
    "                '21st-century_economists':'21st Century Economists', \n",
    "                '21st-century_chemists':'21st Century Chemists', \n",
    "                '20th-century_chemists':'20th Century Chemists',\n",
    "                '21st-century_physicists':'21st Century Physicists',\n",
    "                '20th-century_physicists':'20th Century Physicists',\n",
    "                '21st-century_biologists':'21st Century Biologists',\n",
    "                '20th-century_biologists':'20th Century Biologists',\n",
    "                'Microbiologists':'Microbiologists',\n",
    "                '21st-century_physicians':'21st Century Physicians',\n",
    "                '20th-century_physicians':'20th Century Physicians'}"
   ]
  },
  {
   "cell_type": "code",
   "execution_count": 20,
   "metadata": {},
   "outputs": [
    {
     "data": {
      "text/html": [
       "<div>\n",
       "<style scoped>\n",
       "    .dataframe tbody tr th:only-of-type {\n",
       "        vertical-align: middle;\n",
       "    }\n",
       "\n",
       "    .dataframe tbody tr th {\n",
       "        vertical-align: top;\n",
       "    }\n",
       "\n",
       "    .dataframe thead th {\n",
       "        text-align: right;\n",
       "    }\n",
       "</style>\n",
       "<table border=\"1\" class=\"dataframe\">\n",
       "  <thead>\n",
       "    <tr style=\"text-align: right;\">\n",
       "      <th></th>\n",
       "      <th>category</th>\n",
       "      <th>doctorate</th>\n",
       "      <th>len_page</th>\n",
       "      <th>female</th>\n",
       "      <th>male</th>\n",
       "      <th>count</th>\n",
       "      <th>perc_fem</th>\n",
       "    </tr>\n",
       "  </thead>\n",
       "  <tbody>\n",
       "    <tr>\n",
       "      <th>0</th>\n",
       "      <td>20th-century_economists</td>\n",
       "      <td>515</td>\n",
       "      <td>3842056</td>\n",
       "      <td>196</td>\n",
       "      <td>1483</td>\n",
       "      <td>1679</td>\n",
       "      <td>0.116736</td>\n",
       "    </tr>\n",
       "    <tr>\n",
       "      <th>1</th>\n",
       "      <td>20th-century_physicists</td>\n",
       "      <td>485</td>\n",
       "      <td>3314660</td>\n",
       "      <td>200</td>\n",
       "      <td>1243</td>\n",
       "      <td>1443</td>\n",
       "      <td>0.138600</td>\n",
       "    </tr>\n",
       "    <tr>\n",
       "      <th>2</th>\n",
       "      <td>21st-century_physicists</td>\n",
       "      <td>699</td>\n",
       "      <td>2371105</td>\n",
       "      <td>250</td>\n",
       "      <td>1144</td>\n",
       "      <td>1394</td>\n",
       "      <td>0.179340</td>\n",
       "    </tr>\n",
       "    <tr>\n",
       "      <th>3</th>\n",
       "      <td>20th-century_biologists</td>\n",
       "      <td>631</td>\n",
       "      <td>6046921</td>\n",
       "      <td>702</td>\n",
       "      <td>3040</td>\n",
       "      <td>3742</td>\n",
       "      <td>0.187600</td>\n",
       "    </tr>\n",
       "    <tr>\n",
       "      <th>4</th>\n",
       "      <td>20th-century_physicians</td>\n",
       "      <td>152</td>\n",
       "      <td>7818675</td>\n",
       "      <td>833</td>\n",
       "      <td>3527</td>\n",
       "      <td>4360</td>\n",
       "      <td>0.191055</td>\n",
       "    </tr>\n",
       "    <tr>\n",
       "      <th>5</th>\n",
       "      <td>20th-century_chemists</td>\n",
       "      <td>335</td>\n",
       "      <td>1963960</td>\n",
       "      <td>185</td>\n",
       "      <td>771</td>\n",
       "      <td>956</td>\n",
       "      <td>0.193515</td>\n",
       "    </tr>\n",
       "    <tr>\n",
       "      <th>6</th>\n",
       "      <td>21st-century_economists</td>\n",
       "      <td>503</td>\n",
       "      <td>1778140</td>\n",
       "      <td>178</td>\n",
       "      <td>719</td>\n",
       "      <td>897</td>\n",
       "      <td>0.198439</td>\n",
       "    </tr>\n",
       "    <tr>\n",
       "      <th>7</th>\n",
       "      <td>21st-century_chemists</td>\n",
       "      <td>377</td>\n",
       "      <td>1289566</td>\n",
       "      <td>203</td>\n",
       "      <td>500</td>\n",
       "      <td>703</td>\n",
       "      <td>0.288762</td>\n",
       "    </tr>\n",
       "    <tr>\n",
       "      <th>8</th>\n",
       "      <td>Microbiologists</td>\n",
       "      <td>218</td>\n",
       "      <td>1469549</td>\n",
       "      <td>296</td>\n",
       "      <td>529</td>\n",
       "      <td>825</td>\n",
       "      <td>0.358788</td>\n",
       "    </tr>\n",
       "    <tr>\n",
       "      <th>9</th>\n",
       "      <td>Data_scientists</td>\n",
       "      <td>19</td>\n",
       "      <td>113219</td>\n",
       "      <td>23</td>\n",
       "      <td>40</td>\n",
       "      <td>63</td>\n",
       "      <td>0.365079</td>\n",
       "    </tr>\n",
       "    <tr>\n",
       "      <th>10</th>\n",
       "      <td>21st-century_physicians</td>\n",
       "      <td>22</td>\n",
       "      <td>1208984</td>\n",
       "      <td>239</td>\n",
       "      <td>410</td>\n",
       "      <td>649</td>\n",
       "      <td>0.368259</td>\n",
       "    </tr>\n",
       "    <tr>\n",
       "      <th>11</th>\n",
       "      <td>21st-century_biologists</td>\n",
       "      <td>459</td>\n",
       "      <td>1929295</td>\n",
       "      <td>403</td>\n",
       "      <td>668</td>\n",
       "      <td>1071</td>\n",
       "      <td>0.376284</td>\n",
       "    </tr>\n",
       "  </tbody>\n",
       "</table>\n",
       "</div>"
      ],
      "text/plain": [
       "                   category  doctorate  len_page  female  male  count  \\\n",
       "0   20th-century_economists        515   3842056     196  1483   1679   \n",
       "1   20th-century_physicists        485   3314660     200  1243   1443   \n",
       "2   21st-century_physicists        699   2371105     250  1144   1394   \n",
       "3   20th-century_biologists        631   6046921     702  3040   3742   \n",
       "4   20th-century_physicians        152   7818675     833  3527   4360   \n",
       "5     20th-century_chemists        335   1963960     185   771    956   \n",
       "6   21st-century_economists        503   1778140     178   719    897   \n",
       "7     21st-century_chemists        377   1289566     203   500    703   \n",
       "8           Microbiologists        218   1469549     296   529    825   \n",
       "9           Data_scientists         19    113219      23    40     63   \n",
       "10  21st-century_physicians         22   1208984     239   410    649   \n",
       "11  21st-century_biologists        459   1929295     403   668   1071   \n",
       "\n",
       "    perc_fem  \n",
       "0   0.116736  \n",
       "1   0.138600  \n",
       "2   0.179340  \n",
       "3   0.187600  \n",
       "4   0.191055  \n",
       "5   0.193515  \n",
       "6   0.198439  \n",
       "7   0.288762  \n",
       "8   0.358788  \n",
       "9   0.365079  \n",
       "10  0.368259  \n",
       "11  0.376284  "
      ]
     },
     "execution_count": 20,
     "metadata": {},
     "output_type": "execute_result"
    }
   ],
   "source": [
    "group_cat = df_analysis.groupby('category').sum()\n",
    "group_cat['perc_fem'] = group_cat['female']/group_cat['count']\n",
    "group_cat = group_cat.sort_values('perc_fem')\n",
    "group_cat = group_cat.reset_index()\n",
    "group_cat"
   ]
  },
  {
   "cell_type": "code",
   "execution_count": 21,
   "metadata": {},
   "outputs": [
    {
     "data": {
      "image/png": "[encoded data removed]",
      "text/plain": [
       "<Figure size 576x360 with 1 Axes>"
      ]
     },
     "metadata": {},
     "output_type": "display_data"
    }
   ],
   "source": [
    "x = group_cat['category']\n",
    "pretty_x = [print_cat_dict[x_elem] for x_elem in x]\n",
    "\n",
    "\n",
    "y = group_cat['perc_fem']\n",
    "\n",
    "fig, ax = plt.subplots(figsize=(8,5))\n",
    "#could calculate variance and add error bars\n",
    "\n",
    "ax.barh(pretty_x, y)\n",
    "\n",
    "ax.set_title('Proportion Female by category', size = 15)\n",
    "\n",
    "\n",
    "fig.savefig('images/PropWomenbyCategory.png', bbox_inches = \"tight\")"
   ]
  },
  {
   "cell_type": "markdown",
   "metadata": {},
   "source": [
    "Test if proportion of women with PhD is greater than mwn with PhD\n",
    "Null Hypothesis: PhD Men = PhD Women (or difference = 0)\n"
   ]
  },
  {
   "cell_type": "code",
   "execution_count": 20,
   "metadata": {},
   "outputs": [],
   "source": [
    "group_cat_gender = df_analysis.groupby(['category','female']).sum()\n",
    "group_cat_gender['prop_phd'] = group_cat_gender['doctorate'] / group_cat_gender['count']\n",
    "group_cat_gender = group_cat_gender.reset_index()\n",
    "group_cat_gender = group_cat_gender.sort_values('prop_phd')\n"
   ]
  },
  {
   "cell_type": "code",
   "execution_count": 24,
   "metadata": {},
   "outputs": [
    {
     "name": "stdout",
     "output_type": "stream",
     "text": [
      "Data Science : diff: 0.2011 P-value = 0.0780\n",
      "Economics : diff: -0.0100 P-value = 0.7156\n",
      "Chemistry : diff: -0.0756 P-value = 0.0091**\n",
      "Physics : diff: 0.0180 P-value = 0.4769\n",
      "Physiology or Medicine : diff: -0.0726 P-value = 0.0000**\n"
     ]
    }
   ],
   "source": [
    "\n",
    "for field in nobel:\n",
    "    test_f = df_analysis[(df_analysis['female']==True) & (df_analysis['nobel_field']==field)]\n",
    "    test_f = test_f['doctorate']\n",
    "    test_m = df_analysis[(df_analysis['female']==False) & (df_analysis['nobel_field']==field)]\n",
    "    test_m = test_m['doctorate']\n",
    "\n",
    "    stat, pval = stats.ttest_ind(test_f, test_m, equal_var=False)\n",
    "    \n",
    "    difference = test_m.mean()-test_f.mean()\n",
    "    \n",
    "    alpha = .01\n",
    "\n",
    "    if pval > alpha:\n",
    "        print(f\"{field} : diff: {difference:.4f} P-value = {pval:.4f}\")\n",
    "\n",
    "    elif pval < alpha:\n",
    "        print(f\"{field} : diff: {difference:.4f} P-value = {pval:.4f}**\")\n"
   ]
  },
  {
   "cell_type": "code",
   "execution_count": 25,
   "metadata": {},
   "outputs": [
    {
     "data": {
      "text/html": [
       "<div>\n",
       "<style scoped>\n",
       "    .dataframe tbody tr th:only-of-type {\n",
       "        vertical-align: middle;\n",
       "    }\n",
       "\n",
       "    .dataframe tbody tr th {\n",
       "        vertical-align: top;\n",
       "    }\n",
       "\n",
       "    .dataframe thead th {\n",
       "        text-align: right;\n",
       "    }\n",
       "</style>\n",
       "<table border=\"1\" class=\"dataframe\">\n",
       "  <thead>\n",
       "    <tr style=\"text-align: right;\">\n",
       "      <th></th>\n",
       "      <th>nobel_field</th>\n",
       "      <th>male_phd</th>\n",
       "      <th>female_phd</th>\n",
       "      <th>fem_phd_se</th>\n",
       "      <th>male_phd_se</th>\n",
       "    </tr>\n",
       "  </thead>\n",
       "  <tbody>\n",
       "    <tr>\n",
       "      <th>4</th>\n",
       "      <td>Physiology or Medicine</td>\n",
       "      <td>0.122339</td>\n",
       "      <td>0.194905</td>\n",
       "      <td>0.003624</td>\n",
       "      <td>0.003624</td>\n",
       "    </tr>\n",
       "    <tr>\n",
       "      <th>1</th>\n",
       "      <td>Data Science</td>\n",
       "      <td>0.375000</td>\n",
       "      <td>0.173913</td>\n",
       "      <td>0.076547</td>\n",
       "      <td>0.076547</td>\n",
       "    </tr>\n",
       "    <tr>\n",
       "      <th>2</th>\n",
       "      <td>Economics</td>\n",
       "      <td>0.393733</td>\n",
       "      <td>0.403743</td>\n",
       "      <td>0.010412</td>\n",
       "      <td>0.010412</td>\n",
       "    </tr>\n",
       "    <tr>\n",
       "      <th>0</th>\n",
       "      <td>Chemistry</td>\n",
       "      <td>0.411487</td>\n",
       "      <td>0.487113</td>\n",
       "      <td>0.013803</td>\n",
       "      <td>0.013803</td>\n",
       "    </tr>\n",
       "    <tr>\n",
       "      <th>3</th>\n",
       "      <td>Physics</td>\n",
       "      <td>0.420193</td>\n",
       "      <td>0.402222</td>\n",
       "      <td>0.010103</td>\n",
       "      <td>0.010103</td>\n",
       "    </tr>\n",
       "  </tbody>\n",
       "</table>\n",
       "</div>"
      ],
      "text/plain": [
       "              nobel_field  male_phd  female_phd  fem_phd_se  male_phd_se\n",
       "4  Physiology or Medicine  0.122339    0.194905    0.003624     0.003624\n",
       "1            Data Science  0.375000    0.173913    0.076547     0.076547\n",
       "2               Economics  0.393733    0.403743    0.010412     0.010412\n",
       "0               Chemistry  0.411487    0.487113    0.013803     0.013803\n",
       "3                 Physics  0.420193    0.402222    0.010103     0.010103"
      ]
     },
     "execution_count": 25,
     "metadata": {},
     "output_type": "execute_result"
    }
   ],
   "source": [
    "group_by_cat_gender = df_analysis.groupby(['nobel_field', 'female'])\n",
    "\n",
    "#standard errors \n",
    "se_fem_dct = {}\n",
    "se_male_dct = {}\n",
    "se_fem = []\n",
    "se_male = []\n",
    "\n",
    "for field in nobel:\n",
    "    df_male_phd = df_analysis['doctorate'][(df_analysis['nobel_field']==field) & (df_analysis['female']==False)]\n",
    "    df_female_phd = df_analysis['doctorate'][(df_analysis['nobel_field']==field) & (df_analysis['female']==False)]\n",
    "    \n",
    "    women_phd_se = ((df_female_phd.mean()*(1-df_female_phd.mean()))/len(df_female_phd))**.5\n",
    "    men_phd_se = ((df_male_phd.mean()*(1-df_male_phd.mean()))/len(df_male_phd))**.5\n",
    "    se_fem_dct[field] = women_phd_se\n",
    "    se_male_dct[field] = men_phd_se\n",
    "\n",
    "se_fem_phd = pd.DataFrame(list(se_fem_dct.items()), columns = ['nobel_field', 'fem_phd_se'])\n",
    "se_male_phd = pd.DataFrame(list(se_male_dct.items()), columns = ['nobel_field', 'male_phd_se'])\n",
    "phd_se = pd.merge(se_fem_phd, se_male_phd, how='inner', on='nobel_field')\n",
    "\n",
    "group_by_cat_gender_mean = group_by_cat_gender.mean()\n",
    "phd_group_cat_gender = group_by_cat_gender_mean['doctorate']\n",
    "phd_group_cat_gender = phd_group_cat_gender.reset_index()\n",
    "\n",
    "female_phd = phd_group_cat_gender[phd_group_cat_gender['female'] == True]\n",
    "male_phd = phd_group_cat_gender[phd_group_cat_gender['female'] == False]\n",
    "\n",
    "male_phd = male_phd.filter(['nobel_field', 'doctorate'])\n",
    "male_phd.rename(columns = {'doctorate':'male_phd'}, inplace=True)\n",
    "female_phd = female_phd.filter(['nobel_field', 'doctorate'])\n",
    "female_phd.rename(columns = {'doctorate':'female_phd'}, inplace=True)\n",
    "\n",
    "prop_phd_bycat = pd.merge(male_phd, female_phd, how='inner', on='nobel_field')\n",
    "prop_phd_bycat = pd.merge(prop_phd_bycat, phd_se, how='inner', on='nobel_field')\n",
    "\n",
    "prop_phd_bycat.sort_values('male_phd', inplace=True)\n",
    "prop_phd_bycat\n",
    "    "
   ]
  },
  {
   "cell_type": "code",
   "execution_count": 26,
   "metadata": {},
   "outputs": [
    {
     "data": {
      "image/png": "[encoded data removed]",
      "text/plain": [
       "<Figure size 720x576 with 1 Axes>"
      ]
     },
     "metadata": {},
     "output_type": "display_data"
    }
   ],
   "source": [
    "categories = prop_phd_bycat['nobel_field']\n",
    "y_male = prop_phd_bycat['male_phd']\n",
    "y_fem = prop_phd_bycat['female_phd']\n",
    "\n",
    "male_se = prop_phd_bycat['male_phd_se']\n",
    "fem_se = prop_phd_bycat['fem_phd_se']\n",
    "male_se_double = [x*2 for x in male_se]\n",
    "fem_se_double = [x*2 for x in fem_se]\n",
    "\n",
    "fig, ax = plt.subplots(figsize=(10,8))\n",
    "\n",
    "N = len(categories) \n",
    "ind = np.arange(N) \n",
    "width = .4\n",
    "m = ax.barh(ind, y_male, width, label = 'Male', xerr=male_se_double )\n",
    "f = ax.barh(ind+width, y_fem, width, label = 'Female', xerr=fem_se_double)\n",
    "plt.yticks(ind + width / 2, categories, size=10)\n",
    "plt.legend(loc='best')\n",
    "\n",
    "ax.set_title('Proportion with Ph.D. by gender and field', size=15)\n",
    "\n",
    "fig.savefig('images/PropPhD_gender_field.png', bbox_inches = \"tight\")"
   ]
  },
  {
   "cell_type": "code",
   "execution_count": null,
   "metadata": {},
   "outputs": [],
   "source": []
  },
  {
   "cell_type": "code",
   "execution_count": null,
   "metadata": {},
   "outputs": [],
   "source": []
  },
  {
   "cell_type": "code",
   "execution_count": null,
   "metadata": {},
   "outputs": [],
   "source": []
  },
  {
   "cell_type": "code",
   "execution_count": null,
   "metadata": {},
   "outputs": [],
   "source": []
  }
 ],
 "metadata": {
  "kernelspec": {
   "display_name": "Python 3",
   "language": "python",
   "name": "python3"
  },
  "language_info": {
   "codemirror_mode": {
    "name": "ipython",
    "version": 3
   },
   "file_extension": ".py",
   "mimetype": "text/x-python",
   "name": "python",
   "nbconvert_exporter": "python",
   "pygments_lexer": "ipython3",
   "version": "3.7.9"
  }
 },
 "nbformat": 4,
 "nbformat_minor": 4
}
